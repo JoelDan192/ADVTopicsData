{
 "cells": [
  {
   "cell_type": "code",
   "execution_count": 11,
   "metadata": {
    "collapsed": true
   },
   "outputs": [],
   "source": [
    "import pandas as pd\n",
    "import numpy as np\n",
    "import time\n",
    "import sys"
   ]
  },
  {
   "cell_type": "code",
   "execution_count": 12,
   "metadata": {
    "collapsed": false
   },
   "outputs": [
    {
     "data": {
      "text/html": [
       "<div>\n",
       "<table border=\"1\" class=\"dataframe\">\n",
       "  <thead>\n",
       "    <tr style=\"text-align: right;\">\n",
       "      <th></th>\n",
       "      <th>AnsId</th>\n",
       "      <th>CreationDate</th>\n",
       "      <th>QuestionId</th>\n",
       "      <th>User</th>\n",
       "    </tr>\n",
       "  </thead>\n",
       "  <tbody>\n",
       "    <tr>\n",
       "      <th>0</th>\n",
       "      <td>8</td>\n",
       "      <td>2010-08-16T20:11:04.240</td>\n",
       "      <td>2</td>\n",
       "      <td>14</td>\n",
       "    </tr>\n",
       "    <tr>\n",
       "      <th>1</th>\n",
       "      <td>9</td>\n",
       "      <td>2010-08-16T20:16:17.470</td>\n",
       "      <td>6</td>\n",
       "      <td>77</td>\n",
       "    </tr>\n",
       "    <tr>\n",
       "      <th>2</th>\n",
       "      <td>13</td>\n",
       "      <td>2010-08-16T20:31:32.583</td>\n",
       "      <td>12</td>\n",
       "      <td>80</td>\n",
       "    </tr>\n",
       "    <tr>\n",
       "      <th>3</th>\n",
       "      <td>16</td>\n",
       "      <td>2010-08-16T20:32:57.867</td>\n",
       "      <td>10</td>\n",
       "      <td>80</td>\n",
       "    </tr>\n",
       "    <tr>\n",
       "      <th>4</th>\n",
       "      <td>18</td>\n",
       "      <td>2010-08-16T20:36:48.810</td>\n",
       "      <td>10</td>\n",
       "      <td>90</td>\n",
       "    </tr>\n",
       "  </tbody>\n",
       "</table>\n",
       "</div>"
      ],
      "text/plain": [
       "   AnsId             CreationDate  QuestionId  User\n",
       "0      8  2010-08-16T20:11:04.240           2    14\n",
       "1      9  2010-08-16T20:16:17.470           6    77\n",
       "2     13  2010-08-16T20:31:32.583          12    80\n",
       "3     16  2010-08-16T20:32:57.867          10    80\n",
       "4     18  2010-08-16T20:36:48.810          10    90"
      ]
     },
     "execution_count": 12,
     "metadata": {},
     "output_type": "execute_result"
    }
   ],
   "source": [
    "answers = pd.DataFrame.from_csv(\"answers-cs.csv\")\n",
    "answers = answers.reset_index(level=[0],drop=False)\n",
    "answers = answers[answers.User.notnull()]\n",
    "answers.head()"
   ]
  },
  {
   "cell_type": "code",
   "execution_count": 13,
   "metadata": {
    "collapsed": false
   },
   "outputs": [
    {
     "data": {
      "text/plain": [
       "(11931, 4)"
      ]
     },
     "execution_count": 13,
     "metadata": {},
     "output_type": "execute_result"
    }
   ],
   "source": [
    "answers.shape"
   ]
  },
  {
   "cell_type": "code",
   "execution_count": 14,
   "metadata": {
    "collapsed": false
   },
   "outputs": [
    {
     "data": {
      "text/html": [
       "<div>\n",
       "<table border=\"1\" class=\"dataframe\">\n",
       "  <thead>\n",
       "    <tr style=\"text-align: right;\">\n",
       "      <th></th>\n",
       "      <th>QuestionId</th>\n",
       "      <th>Tags</th>\n",
       "    </tr>\n",
       "  </thead>\n",
       "  <tbody>\n",
       "    <tr>\n",
       "      <th>0</th>\n",
       "      <td>2</td>\n",
       "      <td>&lt;ds.algorithms&gt;&lt;total-ordering&gt;&lt;sorting&gt;</td>\n",
       "    </tr>\n",
       "    <tr>\n",
       "      <th>1</th>\n",
       "      <td>3</td>\n",
       "      <td>&lt;ds.algorithms&gt;&lt;hamiltonian-paths&gt;</td>\n",
       "    </tr>\n",
       "    <tr>\n",
       "      <th>2</th>\n",
       "      <td>4</td>\n",
       "      <td>&lt;np-hardness&gt;&lt;set-cover&gt;&lt;cc.complexity-theory&gt;</td>\n",
       "    </tr>\n",
       "    <tr>\n",
       "      <th>3</th>\n",
       "      <td>5</td>\n",
       "      <td>&lt;ds.algorithms&gt;</td>\n",
       "    </tr>\n",
       "    <tr>\n",
       "      <th>4</th>\n",
       "      <td>6</td>\n",
       "      <td>&lt;concurrency&gt;&lt;process-algebra&gt;&lt;formal-modeling&gt;</td>\n",
       "    </tr>\n",
       "  </tbody>\n",
       "</table>\n",
       "</div>"
      ],
      "text/plain": [
       "   QuestionId                                             Tags\n",
       "0           2         <ds.algorithms><total-ordering><sorting>\n",
       "1           3               <ds.algorithms><hamiltonian-paths>\n",
       "2           4   <np-hardness><set-cover><cc.complexity-theory>\n",
       "3           5                                  <ds.algorithms>\n",
       "4           6  <concurrency><process-algebra><formal-modeling>"
      ]
     },
     "execution_count": 14,
     "metadata": {},
     "output_type": "execute_result"
    }
   ],
   "source": [
    "questions = pd.DataFrame.from_csv(\"questions-cs.csv\")\n",
    "questions = questions.reset_index(level=[0],drop=False)\n",
    "questions = questions[questions.QuestionId.notnull()]\n",
    "questions.head()"
   ]
  },
  {
   "cell_type": "code",
   "execution_count": 15,
   "metadata": {
    "collapsed": false
   },
   "outputs": [
    {
     "data": {
      "text/html": [
       "<div>\n",
       "<table border=\"1\" class=\"dataframe\">\n",
       "  <thead>\n",
       "    <tr style=\"text-align: right;\">\n",
       "      <th></th>\n",
       "      <th>AnsId</th>\n",
       "      <th>CreationDate</th>\n",
       "      <th>QuestionId</th>\n",
       "      <th>User</th>\n",
       "      <th>Tags</th>\n",
       "    </tr>\n",
       "  </thead>\n",
       "  <tbody>\n",
       "    <tr>\n",
       "      <th>0</th>\n",
       "      <td>8</td>\n",
       "      <td>2010-08-16T20:11:04.240</td>\n",
       "      <td>2</td>\n",
       "      <td>14</td>\n",
       "      <td>&lt;ds.algorithms&gt;&lt;total-ordering&gt;&lt;sorting&gt;</td>\n",
       "    </tr>\n",
       "    <tr>\n",
       "      <th>1</th>\n",
       "      <td>20</td>\n",
       "      <td>2010-08-16T20:40:01.720</td>\n",
       "      <td>2</td>\n",
       "      <td>95</td>\n",
       "      <td>&lt;ds.algorithms&gt;&lt;total-ordering&gt;&lt;sorting&gt;</td>\n",
       "    </tr>\n",
       "    <tr>\n",
       "      <th>2</th>\n",
       "      <td>9</td>\n",
       "      <td>2010-08-16T20:16:17.470</td>\n",
       "      <td>6</td>\n",
       "      <td>77</td>\n",
       "      <td>&lt;concurrency&gt;&lt;process-algebra&gt;&lt;formal-modeling&gt;</td>\n",
       "    </tr>\n",
       "    <tr>\n",
       "      <th>3</th>\n",
       "      <td>13</td>\n",
       "      <td>2010-08-16T20:31:32.583</td>\n",
       "      <td>12</td>\n",
       "      <td>80</td>\n",
       "      <td>&lt;cc.complexity-theory&gt;&lt;lo.logic&gt;&lt;computability&gt;</td>\n",
       "    </tr>\n",
       "    <tr>\n",
       "      <th>4</th>\n",
       "      <td>48</td>\n",
       "      <td>2010-08-16T21:58:36.573</td>\n",
       "      <td>12</td>\n",
       "      <td>30</td>\n",
       "      <td>&lt;cc.complexity-theory&gt;&lt;lo.logic&gt;&lt;computability&gt;</td>\n",
       "    </tr>\n",
       "  </tbody>\n",
       "</table>\n",
       "</div>"
      ],
      "text/plain": [
       "   AnsId             CreationDate  QuestionId  User  \\\n",
       "0      8  2010-08-16T20:11:04.240           2    14   \n",
       "1     20  2010-08-16T20:40:01.720           2    95   \n",
       "2      9  2010-08-16T20:16:17.470           6    77   \n",
       "3     13  2010-08-16T20:31:32.583          12    80   \n",
       "4     48  2010-08-16T21:58:36.573          12    30   \n",
       "\n",
       "                                              Tags  \n",
       "0         <ds.algorithms><total-ordering><sorting>  \n",
       "1         <ds.algorithms><total-ordering><sorting>  \n",
       "2  <concurrency><process-algebra><formal-modeling>  \n",
       "3  <cc.complexity-theory><lo.logic><computability>  \n",
       "4  <cc.complexity-theory><lo.logic><computability>  "
      ]
     },
     "execution_count": 15,
     "metadata": {},
     "output_type": "execute_result"
    }
   ],
   "source": [
    "answers = pd.merge(answers,questions,how='inner',on=['QuestionId'])\n",
    "answers.head()"
   ]
  },
  {
   "cell_type": "code",
   "execution_count": 16,
   "metadata": {
    "collapsed": false
   },
   "outputs": [
    {
     "name": "stdout",
     "output_type": "stream",
     "text": [
      "253\n",
      "6.14683153014\n"
     ]
    }
   ],
   "source": [
    "#users that post more than one answers per question\n",
    "print sum(answers.groupby(['User','QuestionId']).count()['AnsId']>1)\n",
    "## user posts on 6 questions on avarage\n",
    "print answers.groupby(['User']).count()['AnsId'].mean()"
   ]
  },
  {
   "cell_type": "code",
   "execution_count": 17,
   "metadata": {
    "collapsed": false
   },
   "outputs": [
    {
     "data": {
      "text/html": [
       "<div>\n",
       "<table border=\"1\" class=\"dataframe\">\n",
       "  <thead>\n",
       "    <tr style=\"text-align: right;\">\n",
       "      <th></th>\n",
       "      <th>AnsId</th>\n",
       "      <th>CreationDate</th>\n",
       "      <th>QuestionId</th>\n",
       "      <th>Tags</th>\n",
       "      <th>User</th>\n",
       "      <th>TagSplit</th>\n",
       "    </tr>\n",
       "  </thead>\n",
       "  <tbody>\n",
       "    <tr>\n",
       "      <th>0</th>\n",
       "      <td>8</td>\n",
       "      <td>2010-08-16T20:11:04.240</td>\n",
       "      <td>2</td>\n",
       "      <td>&lt;ds.algorithms&gt;&lt;total-ordering&gt;&lt;sorting&gt;</td>\n",
       "      <td>14</td>\n",
       "      <td>ds.algorithms</td>\n",
       "    </tr>\n",
       "    <tr>\n",
       "      <th>1</th>\n",
       "      <td>8</td>\n",
       "      <td>2010-08-16T20:11:04.240</td>\n",
       "      <td>2</td>\n",
       "      <td>&lt;ds.algorithms&gt;&lt;total-ordering&gt;&lt;sorting&gt;</td>\n",
       "      <td>14</td>\n",
       "      <td>total-ordering</td>\n",
       "    </tr>\n",
       "    <tr>\n",
       "      <th>2</th>\n",
       "      <td>8</td>\n",
       "      <td>2010-08-16T20:11:04.240</td>\n",
       "      <td>2</td>\n",
       "      <td>&lt;ds.algorithms&gt;&lt;total-ordering&gt;&lt;sorting&gt;</td>\n",
       "      <td>14</td>\n",
       "      <td>sorting</td>\n",
       "    </tr>\n",
       "    <tr>\n",
       "      <th>3</th>\n",
       "      <td>20</td>\n",
       "      <td>2010-08-16T20:40:01.720</td>\n",
       "      <td>2</td>\n",
       "      <td>&lt;ds.algorithms&gt;&lt;total-ordering&gt;&lt;sorting&gt;</td>\n",
       "      <td>95</td>\n",
       "      <td>ds.algorithms</td>\n",
       "    </tr>\n",
       "    <tr>\n",
       "      <th>4</th>\n",
       "      <td>20</td>\n",
       "      <td>2010-08-16T20:40:01.720</td>\n",
       "      <td>2</td>\n",
       "      <td>&lt;ds.algorithms&gt;&lt;total-ordering&gt;&lt;sorting&gt;</td>\n",
       "      <td>95</td>\n",
       "      <td>total-ordering</td>\n",
       "    </tr>\n",
       "  </tbody>\n",
       "</table>\n",
       "</div>"
      ],
      "text/plain": [
       "   AnsId             CreationDate  QuestionId  \\\n",
       "0      8  2010-08-16T20:11:04.240           2   \n",
       "1      8  2010-08-16T20:11:04.240           2   \n",
       "2      8  2010-08-16T20:11:04.240           2   \n",
       "3     20  2010-08-16T20:40:01.720           2   \n",
       "4     20  2010-08-16T20:40:01.720           2   \n",
       "\n",
       "                                       Tags  User        TagSplit  \n",
       "0  <ds.algorithms><total-ordering><sorting>    14   ds.algorithms  \n",
       "1  <ds.algorithms><total-ordering><sorting>    14  total-ordering  \n",
       "2  <ds.algorithms><total-ordering><sorting>    14         sorting  \n",
       "3  <ds.algorithms><total-ordering><sorting>    95   ds.algorithms  \n",
       "4  <ds.algorithms><total-ordering><sorting>    95  total-ordering  "
      ]
     },
     "execution_count": 17,
     "metadata": {},
     "output_type": "execute_result"
    }
   ],
   "source": [
    "# A couple utilities\n",
    "get_topics = lambda string: string.strip(\">\").strip(\"<\").split(\"><\")\n",
    "df_from_row = lambda row: pd.DataFrame(dict(zip(row.index,[[v] for v in row.values])))\n",
    "\n",
    "def concat_set_tags(row,topics):\n",
    "    replicated = pd.concat([df_from_row(row)]*len(topics),axis=0,ignore_index=True)\n",
    "    replicated.loc[:,'TagSplit'] = pd.Series(topics)\n",
    "    return replicated\n",
    "\n",
    "replicate_for_topics = lambda row: concat_set_tags(row,get_topics(row.Tags))\n",
    "\n",
    "rep_posts = pd.DataFrame()\n",
    "for idx,row in answers.iterrows():\n",
    "    rep_posts = rep_posts.append(replicate_for_topics(row),ignore_index=True)\n",
    "rep_posts.head()"
   ]
  },
  {
   "cell_type": "code",
   "execution_count": 18,
   "metadata": {
    "collapsed": false
   },
   "outputs": [
    {
     "data": {
      "text/html": [
       "<div>\n",
       "<table border=\"1\" class=\"dataframe\">\n",
       "  <thead>\n",
       "    <tr style=\"text-align: right;\">\n",
       "      <th></th>\n",
       "      <th>index</th>\n",
       "      <th>QuestionId</th>\n",
       "      <th>TagSplit</th>\n",
       "    </tr>\n",
       "  </thead>\n",
       "  <tbody>\n",
       "    <tr>\n",
       "      <th>0</th>\n",
       "      <td>0</td>\n",
       "      <td>2</td>\n",
       "      <td>ds.algorithms</td>\n",
       "    </tr>\n",
       "    <tr>\n",
       "      <th>1</th>\n",
       "      <td>1</td>\n",
       "      <td>2</td>\n",
       "      <td>sorting</td>\n",
       "    </tr>\n",
       "    <tr>\n",
       "      <th>2</th>\n",
       "      <td>2</td>\n",
       "      <td>2</td>\n",
       "      <td>total-ordering</td>\n",
       "    </tr>\n",
       "    <tr>\n",
       "      <th>3</th>\n",
       "      <td>3</td>\n",
       "      <td>3</td>\n",
       "      <td>ds.algorithms</td>\n",
       "    </tr>\n",
       "    <tr>\n",
       "      <th>4</th>\n",
       "      <td>4</td>\n",
       "      <td>3</td>\n",
       "      <td>hamiltonian-paths</td>\n",
       "    </tr>\n",
       "  </tbody>\n",
       "</table>\n",
       "</div>"
      ],
      "text/plain": [
       "   index  QuestionId           TagSplit\n",
       "0      0           2      ds.algorithms\n",
       "1      1           2            sorting\n",
       "2      2           2     total-ordering\n",
       "3      3           3      ds.algorithms\n",
       "4      4           3  hamiltonian-paths"
      ]
     },
     "execution_count": 18,
     "metadata": {},
     "output_type": "execute_result"
    }
   ],
   "source": [
    "#The vertext index\n",
    "qid_tag_idx = rep_posts.groupby(['QuestionId','TagSplit']).count().reset_index(level=[0,1],drop=False)[['QuestionId','TagSplit']]\n",
    "assert not qid_tag_idx.duplicated().any(),\"Vertex index must be unique\"\n",
    "qid_tag_idx = qid_tag_idx.reset_index(level=[0],drop=False) \n",
    "qid_tag_idx.head()"
   ]
  },
  {
   "cell_type": "code",
   "execution_count": 19,
   "metadata": {
    "collapsed": false
   },
   "outputs": [
    {
     "data": {
      "text/html": [
       "<div>\n",
       "<table border=\"1\" class=\"dataframe\">\n",
       "  <thead>\n",
       "    <tr style=\"text-align: right;\">\n",
       "      <th></th>\n",
       "      <th>User</th>\n",
       "      <th>CreationDate</th>\n",
       "      <th>index</th>\n",
       "    </tr>\n",
       "  </thead>\n",
       "  <tbody>\n",
       "    <tr>\n",
       "      <th>0</th>\n",
       "      <td>14</td>\n",
       "      <td>2010-08-16T20:11:04.240</td>\n",
       "      <td>0</td>\n",
       "    </tr>\n",
       "    <tr>\n",
       "      <th>1</th>\n",
       "      <td>95</td>\n",
       "      <td>2010-08-16T20:40:01.720</td>\n",
       "      <td>0</td>\n",
       "    </tr>\n",
       "    <tr>\n",
       "      <th>2</th>\n",
       "      <td>14</td>\n",
       "      <td>2010-08-16T20:11:04.240</td>\n",
       "      <td>2</td>\n",
       "    </tr>\n",
       "    <tr>\n",
       "      <th>3</th>\n",
       "      <td>95</td>\n",
       "      <td>2010-08-16T20:40:01.720</td>\n",
       "      <td>2</td>\n",
       "    </tr>\n",
       "    <tr>\n",
       "      <th>4</th>\n",
       "      <td>14</td>\n",
       "      <td>2010-08-16T20:11:04.240</td>\n",
       "      <td>1</td>\n",
       "    </tr>\n",
       "  </tbody>\n",
       "</table>\n",
       "</div>"
      ],
      "text/plain": [
       "   User             CreationDate  index\n",
       "0    14  2010-08-16T20:11:04.240      0\n",
       "1    95  2010-08-16T20:40:01.720      0\n",
       "2    14  2010-08-16T20:11:04.240      2\n",
       "3    95  2010-08-16T20:40:01.720      2\n",
       "4    14  2010-08-16T20:11:04.240      1"
      ]
     },
     "execution_count": 19,
     "metadata": {},
     "output_type": "execute_result"
    }
   ],
   "source": [
    "ans_short =  pd.merge(rep_posts,qid_tag_idx,how='inner',on=['QuestionId','TagSplit'])[['User','CreationDate','index']]\n",
    "ans_short.head()"
   ]
  },
  {
   "cell_type": "markdown",
   "metadata": {},
   "source": [
    "## Set timestamps to floats"
   ]
  },
  {
   "cell_type": "code",
   "execution_count": 20,
   "metadata": {
    "collapsed": true
   },
   "outputs": [],
   "source": [
    "ans_short.loc[:,'TimeStamp'] = ans_short.CreationDate.apply(\n",
    "    lambda e: time.mktime(pd.Timestamp(e).timetuple())/(10**8))"
   ]
  },
  {
   "cell_type": "code",
   "execution_count": 21,
   "metadata": {
    "collapsed": false
   },
   "outputs": [
    {
     "data": {
      "text/plain": [
       "0"
      ]
     },
     "execution_count": 21,
     "metadata": {},
     "output_type": "execute_result"
    }
   ],
   "source": [
    "## conversion preserves order (almost)\n",
    "sum(~(ans_short.sort_values(by='TimeStamp').index == ans_short.sort_values(by='CreationDate').index))"
   ]
  },
  {
   "cell_type": "markdown",
   "metadata": {},
   "source": [
    "## Drop cascade (vertex=QuestionId-Tag, Cascade=User)"
   ]
  },
  {
   "cell_type": "code",
   "execution_count": 57,
   "metadata": {
    "collapsed": true
   },
   "outputs": [],
   "source": [
    "#mapping of vertex_id and the actual vertex (Qid-tag)\n",
    "pd.concat([qid_tag_idx['index'],qid_tag_idx['index']],axis=1).to_csv('cascades-cs.txt',index=False,header=False)\n",
    "\n",
    "with open(\"cascades-cs.txt\",\"a\") as fh:\n",
    "    fh.write(\"\\n\")\n",
    "    # Groupby attribute defines the cascades\n",
    "    for k,g in ans_short.groupby(['User']):\n",
    "        df = g.sort_values(by='TimeStamp')\n",
    "        fh.write(','.join(map(lambda tup:\"%d,%.2f\"%(tup[0],tup[1])\n",
    "                     ,zip(df['index'],df['TimeStamp'])))+\"\\n\")"
   ]
  },
  {
   "cell_type": "markdown",
   "metadata": {},
   "source": [
    "## Get infered Network"
   ]
  },
  {
   "cell_type": "code",
   "execution_count": 23,
   "metadata": {
    "collapsed": true
   },
   "outputs": [],
   "source": [
    "import snap"
   ]
  },
  {
   "cell_type": "code",
   "execution_count": 24,
   "metadata": {
    "collapsed": false
   },
   "outputs": [],
   "source": [
    "marginal_gains = {}\n",
    "graph_size='big'\n",
    "with open('net-out-edge-%s.info'%graph_size) as f:\n",
    "    next(f) #drop header\n",
    "    for i,line in enumerate(f):\n",
    "        src,dst,_,gain = line.split('/')[:4]\n",
    "        marginal_gains[(int(src),int(dst))] = float(gain)"
   ]
  },
  {
   "cell_type": "code",
   "execution_count": 25,
   "metadata": {
    "collapsed": false
   },
   "outputs": [],
   "source": [
    "def get_graph_out(path):\n",
    "    with open(path,'r') as f:\n",
    "        flag = False\n",
    "        for line in f:\n",
    "            try:\n",
    "                src,tgt = line.strip().split(\",\")\n",
    "                if src!=tgt:\n",
    "                    yield line\n",
    "            except:\n",
    "                continue\n",
    "\n",
    "with open('net-out-snap-%s.txt'%graph_size,'w') as f:\n",
    "    for line in get_graph_out('net-out-%s.txt'%graph_size):\n",
    "        f.write(line)"
   ]
  },
  {
   "cell_type": "code",
   "execution_count": 26,
   "metadata": {
    "collapsed": false
   },
   "outputs": [],
   "source": [
    "infered_net = snap.TNGraph.New()\n",
    "with open('net-out-snap-%s.txt'%graph_size,'r') as f:\n",
    "    for line in f:\n",
    "        src,tgt = line.strip().split(\",\")\n",
    "        src,tgt = int(src),int(tgt)\n",
    "        if not infered_net.IsNode(src):\n",
    "            infered_net.AddNode(src)\n",
    "        if not infered_net.IsNode(tgt):\n",
    "            infered_net.AddNode(tgt)\n",
    "        infered_net.AddEdge(src,tgt)"
   ]
  },
  {
   "cell_type": "code",
   "execution_count": 27,
   "metadata": {
    "collapsed": false
   },
   "outputs": [],
   "source": [
    "net_snap = pd.DataFrame.from_csv('net-out-snap-%s.txt'%graph_size,index_col=False,header=None)\n",
    "snap_pairs = {}\n",
    "for k,row in net_snap.iterrows():\n",
    "    snap_pairs[(row[0],row[1])] = 1"
   ]
  },
  {
   "cell_type": "code",
   "execution_count": 28,
   "metadata": {
    "collapsed": false
   },
   "outputs": [
    {
     "name": "stdout",
     "output_type": "stream",
     "text": [
      "0\n",
      "28207\n",
      "28207\n"
     ]
    }
   ],
   "source": [
    "## Verify that output network infor is complete on marginal_gains\n",
    "## Nbr. of infered edges\n",
    "print len([t for t in snap_pairs if t not in marginal_gains])\n",
    "print len(snap_pairs)\n",
    "print len(marginal_gains)"
   ]
  },
  {
   "cell_type": "markdown",
   "metadata": {},
   "source": [
    "# BUILD CASCADE TREES"
   ]
  },
  {
   "cell_type": "markdown",
   "metadata": {},
   "source": [
    "### The goal of this section is to reconstruct trees to make within tree 'tag' homophily analysis."
   ]
  },
  {
   "cell_type": "code",
   "execution_count": 29,
   "metadata": {
    "collapsed": false
   },
   "outputs": [],
   "source": [
    "from collections import defaultdict\n",
    "\n",
    "answers = pd.merge(rep_posts,qid_tag_idx,how='inner',on=['QuestionId','TagSplit'])\n",
    "answers.loc[:,'TimeStamp'] = answers.CreationDate.apply(\n",
    "    lambda e: time.mktime(pd.Timestamp(e).timetuple())/(10**8))\n",
    "answers = answers[['User','index','TimeStamp','AnsId','TagSplit','QuestionId']]\n",
    "\n",
    "#vertex_id:[list of cascades] e.g. inverted index\n",
    "cascade_idx = answers.groupby(['index']).User.unique().apply(lambda li: [int(e) for e in li] )\n",
    "cascade_trees = defaultdict(lambda: snap.TNGraph.New())"
   ]
  },
  {
   "cell_type": "code",
   "execution_count": 30,
   "metadata": {
    "collapsed": false
   },
   "outputs": [],
   "source": [
    "#print \"edge (%d %d)\"%(ni.GetId(), nb_id)\n",
    "for n_it in infered_net.Nodes():\n",
    "    for cascade in cascade_idx.loc[n_it.GetId()]:\n",
    "        if not cascade_trees[cascade].IsNode(n_it.GetId()):\n",
    "            cascade_trees[cascade].AddNode(n_it.GetId())\n",
    "        max_gain = -1\n",
    "        max_src = None\n",
    "        for src_id in n_it.GetInEdges():\n",
    "            if cascade in cascade_idx.loc[src_id]:\n",
    "                if marginal_gains[(src_id,n_it.GetId())]>max_gain :\n",
    "                    max_gain = marginal_gains[(src_id,n_it.GetId())]\n",
    "                    max_src = src_id\n",
    "        if not max_src:\n",
    "            continue\n",
    "        if not cascade_trees[cascade].IsNode(max_src):\n",
    "            cascade_trees[cascade].AddNode(max_src)\n",
    "        cascade_trees[cascade].AddEdge(max_src,n_it.GetId())"
   ]
  },
  {
   "cell_type": "code",
   "execution_count": 31,
   "metadata": {
    "collapsed": false
   },
   "outputs": [
    {
     "name": "stdout",
     "output_type": "stream",
     "text": [
      "1600\n",
      "1941\n"
     ]
    }
   ],
   "source": [
    "#Number of infered cascades(users) from total\n",
    "print len(cascade_trees)\n",
    "print np.unique(answers.User.values).size"
   ]
  },
  {
   "cell_type": "markdown",
   "metadata": {
    "collapsed": true
   },
   "source": [
    "## Identify larger cascades"
   ]
  },
  {
   "cell_type": "code",
   "execution_count": 32,
   "metadata": {
    "collapsed": true
   },
   "outputs": [],
   "source": [
    "tree_sizes = [(cascade,cascade_trees[cascade].GetNodes(),cascade_trees[cascade].GetEdges()) \n",
    "              for cascade in cascade_trees]\n",
    "tree_sizes = sorted(tree_sizes,key=lambda tup: tup[1],reverse=True)"
   ]
  },
  {
   "cell_type": "code",
   "execution_count": 33,
   "metadata": {
    "collapsed": false
   },
   "outputs": [],
   "source": [
    "#snap_roots = {cascade:snap.GetTreeRootNId(cascade_trees[cascade]) for cascade in cascade_trees}"
   ]
  },
  {
   "cell_type": "code",
   "execution_count": 34,
   "metadata": {
    "collapsed": false
   },
   "outputs": [],
   "source": [
    "get_tmstmp = lambda user,idx:answers[(answers.User==user)&(answers['index']==idx)]['TimeStamp'].values[0]\n",
    "\n",
    "def get_depth(cand_id,tree):\n",
    "    bfs_tree = snap.GetBfsTree(tree,cand_id,True,False)\n",
    "    DistVec = snap.TIntPrV()\n",
    "    snap.GetNodesAtHops(bfs_tree,cand_id,DistVec)\n",
    "    return max([item.GetVal1() for item in DistVec])\n",
    "\n",
    "def get_root(user,tree):\n",
    "    candidates = [(n_it.GetId(),tree) for n_it in tree.Nodes() if n_it.GetInDeg()==0]\n",
    "    if candidates:\n",
    "        return max(candidates, key=lambda tup:get_depth(tup[0],tup[1]))[0]\n",
    "    candidates = [(n_it.GetId(),get_tmstmp(user,n_it.GetId())) for n_it in tree.Nodes()]\n",
    "    return min(candidates,key=lambda tup:tup[1])[0]\n",
    "    \n",
    "#User, root_vertex_id(Qid-tag)\n",
    "tree_roots = {cascade : get_root(cascade,cascade_trees[cascade])\n",
    "                  for cascade in cascade_trees}"
   ]
  },
  {
   "cell_type": "markdown",
   "metadata": {},
   "source": [
    "##  Vertex. Edge. 3-length path counts"
   ]
  },
  {
   "cell_type": "code",
   "execution_count": 35,
   "metadata": {
    "collapsed": false
   },
   "outputs": [
    {
     "data": {
      "text/html": [
       "<div>\n",
       "<table border=\"1\" class=\"dataframe\">\n",
       "  <thead>\n",
       "    <tr style=\"text-align: right;\">\n",
       "      <th></th>\n",
       "      <th>tag</th>\n",
       "      <th>count</th>\n",
       "    </tr>\n",
       "  </thead>\n",
       "  <tbody>\n",
       "    <tr>\n",
       "      <th>0</th>\n",
       "      <td>advice-and-nonuniformity</td>\n",
       "      <td>9</td>\n",
       "    </tr>\n",
       "    <tr>\n",
       "      <th>1</th>\n",
       "      <td>advice-request</td>\n",
       "      <td>118</td>\n",
       "    </tr>\n",
       "    <tr>\n",
       "      <th>2</th>\n",
       "      <td>ai.artificial-intel</td>\n",
       "      <td>48</td>\n",
       "    </tr>\n",
       "    <tr>\n",
       "      <th>3</th>\n",
       "      <td>algebra</td>\n",
       "      <td>29</td>\n",
       "    </tr>\n",
       "    <tr>\n",
       "      <th>4</th>\n",
       "      <td>algebraic-complexity</td>\n",
       "      <td>26</td>\n",
       "    </tr>\n",
       "  </tbody>\n",
       "</table>\n",
       "</div>"
      ],
      "text/plain": [
       "                        tag  count\n",
       "0  advice-and-nonuniformity      9\n",
       "1            advice-request    118\n",
       "2       ai.artificial-intel     48\n",
       "3                   algebra     29\n",
       "4      algebraic-complexity     26"
      ]
     },
     "execution_count": 35,
     "metadata": {},
     "output_type": "execute_result"
    }
   ],
   "source": [
    "infered_topics = np.unique(np.array([n_it.GetId() for n_it in infered_net.Nodes()],dtype=int))\n",
    "tag_counts = answers[answers.index.isin(infered_topics)].groupby(['TagSplit']).count().reset_index(level=[0],drop=False)[['TagSplit','index']]\n",
    "tag_counts.rename(columns={'TagSplit':'tag','index':'count'},inplace=True)\n",
    "tag_counts.head()"
   ]
  },
  {
   "cell_type": "markdown",
   "metadata": {},
   "source": [
    "## Edges"
   ]
  },
  {
   "cell_type": "code",
   "execution_count": 36,
   "metadata": {
    "collapsed": false
   },
   "outputs": [],
   "source": [
    "edges = pd.DataFrame()\n",
    "for i,cascade in enumerate(cascade_trees):\n",
    "    src=None\n",
    "    tgt=None\n",
    "    split = zip(*[(e.GetSrcNId(),e.GetDstNId()) for e in cascade_trees[cascade].Edges()])\n",
    "    #Filter out empty cascades\n",
    "    if split:\n",
    "        src,tgt = split\n",
    "        edges = edges.append(pd.DataFrame({'src':src,'tgt':tgt}))\n",
    "edges = edges.drop_duplicates()"
   ]
  },
  {
   "cell_type": "code",
   "execution_count": 37,
   "metadata": {
    "collapsed": false
   },
   "outputs": [],
   "source": [
    "source_tags = pd.merge(answers,edges,how='right',left_on=['index'],right_on=['src'])[['src','tgt','index','TagSplit']]\n",
    "source_tages = source_tags.drop_duplicates()\n",
    "tgt_tags = pd.merge(answers,edges,how='right',left_on=['index'],right_on=['tgt'])[['src','tgt','index','TagSplit']]\n",
    "tgt_tags = tgt_tags.drop_duplicates()"
   ]
  },
  {
   "cell_type": "code",
   "execution_count": 38,
   "metadata": {
    "collapsed": false
   },
   "outputs": [],
   "source": [
    "tagged_edges = pd.merge(source_tags,tgt_tags,how='inner',on=['src','tgt'],suffixes=['_src','_tgt'])\n",
    "tagged_edges = tagged_edges[['src','tgt','TagSplit_src','TagSplit_tgt']].drop_duplicates()"
   ]
  },
  {
   "cell_type": "code",
   "execution_count": 39,
   "metadata": {
    "collapsed": false
   },
   "outputs": [
    {
     "data": {
      "text/html": [
       "<div>\n",
       "<table border=\"1\" class=\"dataframe\">\n",
       "  <thead>\n",
       "    <tr style=\"text-align: right;\">\n",
       "      <th></th>\n",
       "      <th>src</th>\n",
       "      <th>tgt</th>\n",
       "      <th>count</th>\n",
       "    </tr>\n",
       "  </thead>\n",
       "  <tbody>\n",
       "    <tr>\n",
       "      <th>0</th>\n",
       "      <td>advice-request</td>\n",
       "      <td>big-list</td>\n",
       "      <td>1</td>\n",
       "    </tr>\n",
       "    <tr>\n",
       "      <th>1</th>\n",
       "      <td>advice-request</td>\n",
       "      <td>books</td>\n",
       "      <td>1</td>\n",
       "    </tr>\n",
       "    <tr>\n",
       "      <th>2</th>\n",
       "      <td>ai.artificial-intel</td>\n",
       "      <td>automata-theory</td>\n",
       "      <td>1</td>\n",
       "    </tr>\n",
       "    <tr>\n",
       "      <th>3</th>\n",
       "      <td>ai.artificial-intel</td>\n",
       "      <td>decision-trees</td>\n",
       "      <td>1</td>\n",
       "    </tr>\n",
       "    <tr>\n",
       "      <th>4</th>\n",
       "      <td>ai.artificial-intel</td>\n",
       "      <td>dfa</td>\n",
       "      <td>1</td>\n",
       "    </tr>\n",
       "  </tbody>\n",
       "</table>\n",
       "</div>"
      ],
      "text/plain": [
       "                   src              tgt  count\n",
       "0       advice-request         big-list      1\n",
       "1       advice-request            books      1\n",
       "2  ai.artificial-intel  automata-theory      1\n",
       "3  ai.artificial-intel   decision-trees      1\n",
       "4  ai.artificial-intel              dfa      1"
      ]
     },
     "execution_count": 39,
     "metadata": {},
     "output_type": "execute_result"
    }
   ],
   "source": [
    "edge_counts = tagged_edges.groupby(['TagSplit_src','TagSplit_tgt']).count().reset_index(level=[0,1],drop=False)[['TagSplit_src','TagSplit_tgt','src']]\n",
    "edge_counts.rename(columns={'TagSplit_src': 'src','TagSplit_tgt': 'tgt','src':'count'}, inplace=True)\n",
    "edge_counts.head()"
   ]
  },
  {
   "cell_type": "markdown",
   "metadata": {},
   "source": [
    "## vertices by dist to root"
   ]
  },
  {
   "cell_type": "code",
   "execution_count": 40,
   "metadata": {
    "collapsed": false
   },
   "outputs": [],
   "source": [
    "tree_depths = {}\n",
    "for i,cascade in enumerate(cascade_trees):\n",
    "    DistVec = snap.TIntPrV()\n",
    "    snap.GetNodesAtHops(cascade_trees[cascade],\n",
    "                            tree_roots[cascade],\n",
    "                            DistVec,True)\n",
    "    #use later for hist of depths\n",
    "    tree_depths[cascade] = [item.GetVal1() for item in DistVec]"
   ]
  },
  {
   "cell_type": "code",
   "execution_count": 41,
   "metadata": {
    "collapsed": false
   },
   "outputs": [],
   "source": [
    "tree_by_hops = {}\n",
    "for i,cascade in enumerate(cascade_trees):\n",
    "    for d in tree_depths[cascade]:\n",
    "        NodeVec = snap.TIntV()\n",
    "        snap.GetNodesAtHop(cascade_trees[cascade],\n",
    "                          tree_roots[cascade],d,NodeVec,True)\n",
    "        tree_by_hops[(cascade,d)] = [v for v in NodeVec]"
   ]
  },
  {
   "cell_type": "markdown",
   "metadata": {},
   "source": [
    "## Length-3 paths"
   ]
  },
  {
   "cell_type": "code",
   "execution_count": 42,
   "metadata": {
    "collapsed": false
   },
   "outputs": [
    {
     "data": {
      "text/html": [
       "<div>\n",
       "<table border=\"1\" class=\"dataframe\">\n",
       "  <thead>\n",
       "    <tr style=\"text-align: right;\">\n",
       "      <th></th>\n",
       "      <th>child</th>\n",
       "      <th>gpar</th>\n",
       "      <th>par</th>\n",
       "    </tr>\n",
       "  </thead>\n",
       "  <tbody>\n",
       "    <tr>\n",
       "      <th>0</th>\n",
       "      <td>3654</td>\n",
       "      <td>747</td>\n",
       "      <td>1713</td>\n",
       "    </tr>\n",
       "    <tr>\n",
       "      <th>1</th>\n",
       "      <td>3655</td>\n",
       "      <td>747</td>\n",
       "      <td>1713</td>\n",
       "    </tr>\n",
       "    <tr>\n",
       "      <th>2</th>\n",
       "      <td>3656</td>\n",
       "      <td>747</td>\n",
       "      <td>1713</td>\n",
       "    </tr>\n",
       "    <tr>\n",
       "      <th>3</th>\n",
       "      <td>5806</td>\n",
       "      <td>1713</td>\n",
       "      <td>3656</td>\n",
       "    </tr>\n",
       "    <tr>\n",
       "      <th>4</th>\n",
       "      <td>5807</td>\n",
       "      <td>1713</td>\n",
       "      <td>3656</td>\n",
       "    </tr>\n",
       "  </tbody>\n",
       "</table>\n",
       "</div>"
      ],
      "text/plain": [
       "   child  gpar   par\n",
       "0   3654   747  1713\n",
       "1   3655   747  1713\n",
       "2   3656   747  1713\n",
       "3   5806  1713  3656\n",
       "4   5807  1713  3656"
      ]
     },
     "execution_count": 42,
     "metadata": {},
     "output_type": "execute_result"
    }
   ],
   "source": [
    "tree_edges = []\n",
    "dst = 2\n",
    "for i,cascade in enumerate(cascade_trees):\n",
    "    if dst not in tree_depths[cascade]:\n",
    "        continue\n",
    "    for n_it in cascade_trees[cascade].Nodes():\n",
    "        HopV = snap.TIntV()\n",
    "        snap.GetNodesAtHop(cascade_trees[cascade],\n",
    "                           n_it.GetId(),dst,\n",
    "                           HopV,True)\n",
    "        if len([v for v in HopV])==0:\n",
    "            continue           \n",
    "        new_edges = [(n_it.GetId(),\n",
    "          cascade_trees[cascade].GetNI(v).GetInNId(0),\n",
    "          v) for v in HopV]\n",
    "        tree_edges = tree_edges + new_edges\n",
    "\n",
    "gpar,par,child = zip(*tree_edges)\n",
    "len_3_paths = pd.DataFrame({'gpar':gpar,'par':par,'child':child})\n",
    "len_3_paths.head()"
   ]
  },
  {
   "cell_type": "code",
   "execution_count": 43,
   "metadata": {
    "collapsed": false
   },
   "outputs": [],
   "source": [
    "atts = ['gpar','par','child','index','TagSplit']\n",
    "gpar_tags = pd.merge(answers,len_3_paths,how='right',left_on=['index'],right_on=['gpar'])[atts]\n",
    "gpar_tags = gpar_tags.drop_duplicates()\n",
    "par_tags = pd.merge(answers,len_3_paths,how='right',left_on=['index'],right_on=['par'])[atts]\n",
    "par_tags = par_tags.drop_duplicates()\n",
    "child_tags = pd.merge(answers,len_3_paths,how='right',left_on=['index'],right_on=['child'])[atts]\n",
    "child_tags = child_tags.drop_duplicates()"
   ]
  },
  {
   "cell_type": "code",
   "execution_count": 44,
   "metadata": {
    "collapsed": false
   },
   "outputs": [
    {
     "data": {
      "text/html": [
       "<div>\n",
       "<table border=\"1\" class=\"dataframe\">\n",
       "  <thead>\n",
       "    <tr style=\"text-align: right;\">\n",
       "      <th></th>\n",
       "      <th>gpar</th>\n",
       "      <th>par</th>\n",
       "      <th>child</th>\n",
       "      <th>TagSplit_gpar</th>\n",
       "      <th>TagSplit_par</th>\n",
       "      <th>TagSplit_child</th>\n",
       "    </tr>\n",
       "  </thead>\n",
       "  <tbody>\n",
       "    <tr>\n",
       "      <th>0</th>\n",
       "      <td>18</td>\n",
       "      <td>954</td>\n",
       "      <td>1166</td>\n",
       "      <td>pl.programming-languages</td>\n",
       "      <td>reference-request</td>\n",
       "      <td>ds.data-structures</td>\n",
       "    </tr>\n",
       "    <tr>\n",
       "      <th>1</th>\n",
       "      <td>18</td>\n",
       "      <td>954</td>\n",
       "      <td>1167</td>\n",
       "      <td>pl.programming-languages</td>\n",
       "      <td>reference-request</td>\n",
       "      <td>skip-lists</td>\n",
       "    </tr>\n",
       "    <tr>\n",
       "      <th>2</th>\n",
       "      <td>18</td>\n",
       "      <td>954</td>\n",
       "      <td>1605</td>\n",
       "      <td>pl.programming-languages</td>\n",
       "      <td>reference-request</td>\n",
       "      <td>ds.data-structures</td>\n",
       "    </tr>\n",
       "    <tr>\n",
       "      <th>3</th>\n",
       "      <td>18</td>\n",
       "      <td>954</td>\n",
       "      <td>1606</td>\n",
       "      <td>pl.programming-languages</td>\n",
       "      <td>reference-request</td>\n",
       "      <td>functional-programming</td>\n",
       "    </tr>\n",
       "    <tr>\n",
       "      <th>4</th>\n",
       "      <td>18</td>\n",
       "      <td>954</td>\n",
       "      <td>1607</td>\n",
       "      <td>pl.programming-languages</td>\n",
       "      <td>reference-request</td>\n",
       "      <td>logic-programming</td>\n",
       "    </tr>\n",
       "  </tbody>\n",
       "</table>\n",
       "</div>"
      ],
      "text/plain": [
       "   gpar  par  child             TagSplit_gpar       TagSplit_par  \\\n",
       "0    18  954   1166  pl.programming-languages  reference-request   \n",
       "1    18  954   1167  pl.programming-languages  reference-request   \n",
       "2    18  954   1605  pl.programming-languages  reference-request   \n",
       "3    18  954   1606  pl.programming-languages  reference-request   \n",
       "4    18  954   1607  pl.programming-languages  reference-request   \n",
       "\n",
       "           TagSplit_child  \n",
       "0      ds.data-structures  \n",
       "1              skip-lists  \n",
       "2      ds.data-structures  \n",
       "3  functional-programming  \n",
       "4       logic-programming  "
      ]
     },
     "execution_count": 44,
     "metadata": {},
     "output_type": "execute_result"
    }
   ],
   "source": [
    "path_feats = ['gpar','par','child','TagSplit_gpar','TagSplit_par','TagSplit_child']\n",
    "tagged_3_paths = pd.merge(gpar_tags,par_tags,how='inner',on=['gpar','par','child'],suffixes=['_gpar','_par'])\n",
    "tagged_3_paths = tagged_3_paths.drop_duplicates()\n",
    "tagged_3_paths = pd.merge(tagged_3_paths,child_tags,on=['gpar','par','child'],how='inner')\n",
    "tagged_3_paths.rename(columns={'TagSplit': 'TagSplit_child'}, inplace=True)\n",
    "tagged_3_paths = tagged_3_paths[path_feats].drop_duplicates()\n",
    "tagged_3_paths.head()"
   ]
  },
  {
   "cell_type": "code",
   "execution_count": 45,
   "metadata": {
    "collapsed": false
   },
   "outputs": [
    {
     "data": {
      "text/html": [
       "<div>\n",
       "<table border=\"1\" class=\"dataframe\">\n",
       "  <thead>\n",
       "    <tr style=\"text-align: right;\">\n",
       "      <th></th>\n",
       "      <th>gpar</th>\n",
       "      <th>par</th>\n",
       "      <th>child</th>\n",
       "      <th>count</th>\n",
       "    </tr>\n",
       "  </thead>\n",
       "  <tbody>\n",
       "    <tr>\n",
       "      <th>0</th>\n",
       "      <td>ai.artificial-intel</td>\n",
       "      <td>time-complexity</td>\n",
       "      <td>big-list</td>\n",
       "      <td>1</td>\n",
       "    </tr>\n",
       "    <tr>\n",
       "      <th>1</th>\n",
       "      <td>ai.artificial-intel</td>\n",
       "      <td>time-complexity</td>\n",
       "      <td>soft-question</td>\n",
       "      <td>1</td>\n",
       "    </tr>\n",
       "    <tr>\n",
       "      <th>2</th>\n",
       "      <td>ai.artificial-intel</td>\n",
       "      <td>time-complexity</td>\n",
       "      <td>survey</td>\n",
       "      <td>1</td>\n",
       "    </tr>\n",
       "    <tr>\n",
       "      <th>3</th>\n",
       "      <td>application-of-theory</td>\n",
       "      <td>random-walks</td>\n",
       "      <td>cc.complexity-theory</td>\n",
       "      <td>1</td>\n",
       "    </tr>\n",
       "    <tr>\n",
       "      <th>4</th>\n",
       "      <td>approximation-algorithms</td>\n",
       "      <td>cr.crypto-security</td>\n",
       "      <td>reference-request</td>\n",
       "      <td>1</td>\n",
       "    </tr>\n",
       "  </tbody>\n",
       "</table>\n",
       "</div>"
      ],
      "text/plain": [
       "                       gpar                 par                 child  count\n",
       "0       ai.artificial-intel     time-complexity              big-list      1\n",
       "1       ai.artificial-intel     time-complexity         soft-question      1\n",
       "2       ai.artificial-intel     time-complexity                survey      1\n",
       "3     application-of-theory        random-walks  cc.complexity-theory      1\n",
       "4  approximation-algorithms  cr.crypto-security     reference-request      1"
      ]
     },
     "execution_count": 45,
     "metadata": {},
     "output_type": "execute_result"
    }
   ],
   "source": [
    "tag_atts = ['TagSplit_gpar','TagSplit_par','TagSplit_child']\n",
    "path_counts = tagged_3_paths.groupby(tag_atts).count().reset_index(level=[0,1,2],drop=False)[tag_atts+['gpar']]\n",
    "path_counts.rename(columns={'TagSplit_gpar':'gpar','TagSplit_par':'par','TagSplit_child':'child','gpar':'count'},inplace=True)\n",
    "path_counts.head()"
   ]
  },
  {
   "cell_type": "markdown",
   "metadata": {
    "collapsed": true
   },
   "source": [
    "## Calculate 1st transition probability"
   ]
  },
  {
   "cell_type": "code",
   "execution_count": 46,
   "metadata": {
    "collapsed": true
   },
   "outputs": [],
   "source": [
    "def normalize(df):\n",
    "    df.loc[:,'transition_prob'] = df['transition_prob']/df['transition_prob'].sum()\n",
    "    df.loc[:,'transition_prob'] = df['transition_prob'].cumsum()\n",
    "    return df"
   ]
  },
  {
   "cell_type": "code",
   "execution_count": 47,
   "metadata": {
    "collapsed": false
   },
   "outputs": [
    {
     "data": {
      "text/html": [
       "<div>\n",
       "<table border=\"1\" class=\"dataframe\">\n",
       "  <thead>\n",
       "    <tr style=\"text-align: right;\">\n",
       "      <th></th>\n",
       "      <th>src</th>\n",
       "      <th>tgt</th>\n",
       "      <th>transition_prob</th>\n",
       "    </tr>\n",
       "  </thead>\n",
       "  <tbody>\n",
       "    <tr>\n",
       "      <th>0</th>\n",
       "      <td>advice-request</td>\n",
       "      <td>big-list</td>\n",
       "      <td>0.500</td>\n",
       "    </tr>\n",
       "    <tr>\n",
       "      <th>1</th>\n",
       "      <td>advice-request</td>\n",
       "      <td>books</td>\n",
       "      <td>1.000</td>\n",
       "    </tr>\n",
       "    <tr>\n",
       "      <th>2</th>\n",
       "      <td>ai.artificial-intel</td>\n",
       "      <td>automata-theory</td>\n",
       "      <td>0.125</td>\n",
       "    </tr>\n",
       "    <tr>\n",
       "      <th>3</th>\n",
       "      <td>ai.artificial-intel</td>\n",
       "      <td>decision-trees</td>\n",
       "      <td>0.250</td>\n",
       "    </tr>\n",
       "    <tr>\n",
       "      <th>4</th>\n",
       "      <td>ai.artificial-intel</td>\n",
       "      <td>dfa</td>\n",
       "      <td>0.375</td>\n",
       "    </tr>\n",
       "  </tbody>\n",
       "</table>\n",
       "</div>"
      ],
      "text/plain": [
       "                   src              tgt  transition_prob\n",
       "0       advice-request         big-list            0.500\n",
       "1       advice-request            books            1.000\n",
       "2  ai.artificial-intel  automata-theory            0.125\n",
       "3  ai.artificial-intel   decision-trees            0.250\n",
       "4  ai.artificial-intel              dfa            0.375"
      ]
     },
     "execution_count": 47,
     "metadata": {},
     "output_type": "execute_result"
    }
   ],
   "source": [
    "first_order_transpb = pd.merge(tag_counts,edge_counts,how='inner',left_on=['tag'],right_on=['src'],suffixes=['_tag','_edge'])\n",
    "first_order_transpb.loc[:,'transition_prob'] = first_order_transpb['count_edge']/first_order_transpb['count_tag']\n",
    "first_order_transpb = first_order_transpb[['src','tgt','transition_prob']]\n",
    "first_order_transpb = first_order_transpb.groupby(['src']).apply(normalize)\n",
    "first_order_transpb.head()"
   ]
  },
  {
   "cell_type": "code",
   "execution_count": 48,
   "metadata": {
    "collapsed": false
   },
   "outputs": [
    {
     "data": {
      "text/html": [
       "<div>\n",
       "<table border=\"1\" class=\"dataframe\">\n",
       "  <thead>\n",
       "    <tr style=\"text-align: right;\">\n",
       "      <th></th>\n",
       "      <th>src</th>\n",
       "      <th>tgt</th>\n",
       "      <th>transition_prob</th>\n",
       "    </tr>\n",
       "  </thead>\n",
       "  <tbody>\n",
       "    <tr>\n",
       "      <th>47</th>\n",
       "      <td>automata-theory</td>\n",
       "      <td>automata-theory</td>\n",
       "      <td>0.266667</td>\n",
       "    </tr>\n",
       "    <tr>\n",
       "      <th>61</th>\n",
       "      <td>big-list</td>\n",
       "      <td>big-list</td>\n",
       "      <td>0.113636</td>\n",
       "    </tr>\n",
       "    <tr>\n",
       "      <th>126</th>\n",
       "      <td>boolean-functions</td>\n",
       "      <td>boolean-functions</td>\n",
       "      <td>0.133333</td>\n",
       "    </tr>\n",
       "    <tr>\n",
       "      <th>162</th>\n",
       "      <td>cc.complexity-theory</td>\n",
       "      <td>cc.complexity-theory</td>\n",
       "      <td>0.262231</td>\n",
       "    </tr>\n",
       "    <tr>\n",
       "      <th>292</th>\n",
       "      <td>cg.comp-geom</td>\n",
       "      <td>cg.comp-geom</td>\n",
       "      <td>0.205882</td>\n",
       "    </tr>\n",
       "  </tbody>\n",
       "</table>\n",
       "</div>"
      ],
      "text/plain": [
       "                      src                   tgt  transition_prob\n",
       "47        automata-theory       automata-theory         0.266667\n",
       "61               big-list              big-list         0.113636\n",
       "126     boolean-functions     boolean-functions         0.133333\n",
       "162  cc.complexity-theory  cc.complexity-theory         0.262231\n",
       "292          cg.comp-geom          cg.comp-geom         0.205882"
      ]
     },
     "execution_count": 48,
     "metadata": {},
     "output_type": "execute_result"
    }
   ],
   "source": [
    "## self-loops\n",
    "first_order_transpb[first_order_transpb.src==first_order_transpb.tgt].head()"
   ]
  },
  {
   "cell_type": "markdown",
   "metadata": {
    "collapsed": true
   },
   "source": [
    "## 2nd order calculation"
   ]
  },
  {
   "cell_type": "code",
   "execution_count": 54,
   "metadata": {
    "collapsed": false
   },
   "outputs": [
    {
     "data": {
      "text/html": [
       "<div>\n",
       "<table border=\"1\" class=\"dataframe\">\n",
       "  <thead>\n",
       "    <tr style=\"text-align: right;\">\n",
       "      <th></th>\n",
       "      <th>gpar</th>\n",
       "      <th>par</th>\n",
       "      <th>child</th>\n",
       "      <th>transition_prob</th>\n",
       "    </tr>\n",
       "  </thead>\n",
       "  <tbody>\n",
       "    <tr>\n",
       "      <th>0</th>\n",
       "      <td>ai.artificial-intel</td>\n",
       "      <td>time-complexity</td>\n",
       "      <td>big-list</td>\n",
       "      <td>0.333333</td>\n",
       "    </tr>\n",
       "    <tr>\n",
       "      <th>1</th>\n",
       "      <td>ai.artificial-intel</td>\n",
       "      <td>time-complexity</td>\n",
       "      <td>soft-question</td>\n",
       "      <td>0.666667</td>\n",
       "    </tr>\n",
       "    <tr>\n",
       "      <th>2</th>\n",
       "      <td>ai.artificial-intel</td>\n",
       "      <td>time-complexity</td>\n",
       "      <td>survey</td>\n",
       "      <td>1.000000</td>\n",
       "    </tr>\n",
       "    <tr>\n",
       "      <th>3</th>\n",
       "      <td>application-of-theory</td>\n",
       "      <td>random-walks</td>\n",
       "      <td>cc.complexity-theory</td>\n",
       "      <td>1.000000</td>\n",
       "    </tr>\n",
       "    <tr>\n",
       "      <th>4</th>\n",
       "      <td>approximation-algorithms</td>\n",
       "      <td>cr.crypto-security</td>\n",
       "      <td>reference-request</td>\n",
       "      <td>0.500000</td>\n",
       "    </tr>\n",
       "  </tbody>\n",
       "</table>\n",
       "</div>"
      ],
      "text/plain": [
       "                       gpar                 par                 child  \\\n",
       "0       ai.artificial-intel     time-complexity              big-list   \n",
       "1       ai.artificial-intel     time-complexity         soft-question   \n",
       "2       ai.artificial-intel     time-complexity                survey   \n",
       "3     application-of-theory        random-walks  cc.complexity-theory   \n",
       "4  approximation-algorithms  cr.crypto-security     reference-request   \n",
       "\n",
       "   transition_prob  \n",
       "0         0.333333  \n",
       "1         0.666667  \n",
       "2         1.000000  \n",
       "3         1.000000  \n",
       "4         0.500000  "
      ]
     },
     "execution_count": 54,
     "metadata": {},
     "output_type": "execute_result"
    }
   ],
   "source": [
    "second_order_transpb = pd.merge(path_counts,edge_counts,how='inner',left_on=['gpar','par'],right_on=['src','tgt'],suffixes=['_path','_edge'])\n",
    "second_order_transpb.loc[:,'transition_prob'] = second_order_transpb['count_path']/second_order_transpb['count_edge']\n",
    "second_order_transpb = second_order_transpb[['gpar','par','child','transition_prob']]\n",
    "second_order_transpb = second_order_transpb.groupby(['gpar','par']).apply(normalize)\n",
    "second_order_transpb.head()"
   ]
  },
  {
   "cell_type": "markdown",
   "metadata": {},
   "source": [
    "## Within-Between tree similarity"
   ]
  },
  {
   "cell_type": "code",
   "execution_count": 51,
   "metadata": {
    "collapsed": true
   },
   "outputs": [],
   "source": [
    "import numpy as np\n",
    "import random\n",
    "from matplotlib import pyplot\n",
    "\n",
    "%matplotlib inline"
   ]
  },
  {
   "cell_type": "code",
   "execution_count": 52,
   "metadata": {
    "collapsed": true
   },
   "outputs": [],
   "source": [
    "get_tag = lambda nid: qid_tag_idx[qid_tag_idx['index']==nid].TagSplit.values[0]"
   ]
  },
  {
   "cell_type": "code",
   "execution_count": 53,
   "metadata": {
    "collapsed": false
   },
   "outputs": [
    {
     "data": {
      "image/png": "[encoded data removed]",
      "text/plain": [
       "<matplotlib.figure.Figure at 0xc03f518>"
      ]
     },
     "metadata": {},
     "output_type": "display_data"
    }
   ],
   "source": [
    "nb_iter = 100 #nuber of trials in each tree\n",
    "min_size = 50 #min size, probably should be min depth TODO\n",
    "\n",
    "big_cascades = lambda forest,thresh: (cascade for cascade in forest if forest[cascade].GetNodes()>=thresh)\n",
    "prob_match = lambda graph,trials: sum([ \n",
    "        get_tag(graph.GetRndNId()) == get_tag(graph.GetRndNId())\n",
    "        for _ in range(trials)])/float(trials)\n",
    "\n",
    "def prob_match_between(trials):\n",
    "    c1=0\n",
    "    c2=0\n",
    "    while c1==c2:\n",
    "        c1 = random.choice(cascade_trees.keys())\n",
    "        c2 = random.choice(cascade_trees.keys())\n",
    "    ctree_1 = cascade_trees[c1]\n",
    "    ctree_2 = cascade_trees[c2]\n",
    "    return sum([ \n",
    "        get_tag(ctree_1.GetRndNId()) == get_tag(ctree_2.GetRndNId())\n",
    "        for _ in range(trials)])/float(trials)\n",
    "          \n",
    "probs_within = [prob_match(cascade_trees[cascade],nb_iter) for cascade in big_cascades(cascade_trees,min_size)]\n",
    "probs_between = [prob_match_between(nb_iter) for _ in big_cascades(cascade_trees,min_size)]\n",
    "\n",
    "bins = np.linspace(0, .4, 20)        \n",
    "pyplot.hist(probs_within, bins, alpha=0.5, label='within_tree_sim')\n",
    "pyplot.hist(probs_between, bins, alpha=0.5, label='between_tree_sim')\n",
    "pyplot.legend(loc='upper right')\n",
    "pyplot.show()\n"
   ]
  },
  {
   "cell_type": "markdown",
   "metadata": {},
   "source": [
    "## First-order Markov walk"
   ]
  },
  {
   "cell_type": "code",
   "execution_count": 64,
   "metadata": {
    "collapsed": false
   },
   "outputs": [],
   "source": [
    "#are non defined origin states absorbing or mix to others?\n",
    "def tag_from(nId):\n",
    "    df = first_order_transpb[first_order_transpb['src']==get_tag(nId)]\n",
    "    if df.empty:\n",
    "        return get_tag(nId)\n",
    "    try:\n",
    "        return df[df['transition_prob']>random.random()]['tgt'].iloc[0]\n",
    "    except:\n",
    "        print 'tag: %s'%get_tag(nId)\n",
    "        print 'df:'\n",
    "        print df\n",
    "        sys.exit()"
   ]
  },
  {
   "cell_type": "code",
   "execution_count": 65,
   "metadata": {
    "collapsed": false
   },
   "outputs": [],
   "source": [
    "def walk_and_tag(cascade):\n",
    "    if cascade not in tree_roots:\n",
    "        return None\n",
    "    to_tag = []\n",
    "    tags = {}\n",
    "    bfs_tree = snap.GetBfsTree(cascade_trees[cascade],tree_roots[cascade],True,False)\n",
    "    tags[tree_roots[cascade]] = get_tag(tree_roots[cascade])\n",
    "    for e_it in bfs_tree.Edges():\n",
    "        if not e_it.GetSrcNId() in tags and not e_it.GetDstNId() in tags:\n",
    "            to_tag = to_tag + [e_it.GetSrcNId(),e_it.GetDstNId()]      \n",
    "        if e_it.GetSrcNId() in tags:\n",
    "            tags[e_it.GetDstNId()] = tag_from(e_it.GetSrcNId())\n",
    "    return tags.values()\n",
    "    "
   ]
  },
  {
   "cell_type": "code",
   "execution_count": 66,
   "metadata": {
    "collapsed": false
   },
   "outputs": [
    {
     "data": {
      "image/png": "[encoded data removed]",
      "text/plain": [
       "<matplotlib.figure.Figure at 0x1312ad68>"
      ]
     },
     "metadata": {},
     "output_type": "display_data"
    }
   ],
   "source": [
    "min_size = 50\n",
    "nb_iter = 150 #nbr of times to sample per tree\n",
    "##TODO see if need refresh in walk during sampling in nb_iter\n",
    "\n",
    "get_big = lambda roots,thresh: (cascade for cascade in roots if cascade_trees[cascade].GetNodes()>=thresh)\n",
    "#iterate only from detected tree roots\n",
    "sim_first_order = []\n",
    "for cascade in get_big(tree_roots,min_size):\n",
    "    mc_dist = walk_and_tag(cascade)\n",
    "    p = sum([random.choice(mc_dist)==random.choice(mc_dist) for _ in range(nb_iter)])/float(nb_iter)\n",
    "    sim_first_order.append(p)\n",
    "\n",
    "bins = np.linspace(0, .4, 20)        \n",
    "pyplot.hist(probs_within, bins, alpha=0.5, label='first_order_markov_sim')\n",
    "pyplot.legend(loc='upper right')\n",
    "pyplot.show()\n",
    "   "
   ]
  },
  {
   "cell_type": "code",
   "execution_count": null,
   "metadata": {
    "collapsed": true
   },
   "outputs": [],
   "source": []
  },
  {
   "cell_type": "code",
   "execution_count": null,
   "metadata": {
    "collapsed": true
   },
   "outputs": [],
   "source": []
  }
 ],
 "metadata": {
  "kernelspec": {
   "display_name": "Python 2",
   "language": "python",
   "name": "python2"
  },
  "language_info": {
   "codemirror_mode": {
    "name": "ipython",
    "version": 2
   },
   "file_extension": ".py",
   "mimetype": "text/x-python",
   "name": "python",
   "nbconvert_exporter": "python",
   "pygments_lexer": "ipython2",
   "version": "2.7.11"
  }
 },
 "nbformat": 4,
 "nbformat_minor": 0
}
